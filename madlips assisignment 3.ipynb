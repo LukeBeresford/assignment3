{
 "cells": [
  {
   "cell_type": "code",
   "execution_count": 2,
   "metadata": {},
   "outputs": [
    {
     "name": "stdout",
     "output_type": "stream",
     "text": [
      "A diabiocal but also a quirky\n",
      "aroma appeared out of now where when i opened my front door\n",
      "and realised it was kind of a funny sense of smell instead\n",
      "at that exact moment is when i turned around and started dancing \n",
      "like was a such a lion\n",
      "but you would have done the exact same thing like rhianna\n",
      "did at my best friend newphew pet dog party last year\n",
      "when i was at fish city\n",
      "where we all started and swimming\n",
      "on a friday night\n",
      "with my homegirl ester\n",
      "which i known since i was in my adolescence when was singing never gonna give you up by rick astley in the living room togther\n",
      "because her partner borris was insecure about her leaving him\n",
      "in the city of tokyo where they used to hate facial hair but then it grew on them\n"
     ]
    }
   ],
   "source": [
    "# My attempt of creatitng a madlib game xD\n",
    "\n",
    "adjective = input (\"Enter an adjective don't be shy\")\n",
    "adjective2 = input (\"Enter another adjective cmon hurry\")\n",
    "ing = input (\" Type in a verb which ends with a ing and pls dont be boring\")\n",
    "animal =  input (\" Enter a type of animal and no snopp lion doesn't count\")\n",
    "celebrity = input (\"Type in any celebrity name\")\n",
    "noun = input(\"Enter a nun ermm sorry  i meant a Noun my bad\")\n",
    "verb1 = input (\" now enter a verb and dont stress its nearly finsh, hold your horses\")\n",
    "day = input (\" now enter in any weekday\")\n",
    "womans_name = input (\" Type in a women name\")\n",
    "mans_name = input (\" Type in a man name\")\n",
    "city = input(\"and this is the last one because im not 50cent with 21 questions so go ahead and type in a city\")\n",
    "\n",
    "print (\"A diabiocal but also a \"  + adjective) \n",
    "print (\"aroma appeared out of now where when i opened my front door\")\n",
    "print (\"and realised it was kind of a \" + adjective2 +  \" sense of smell instead\")\n",
    "print (\"at that exact moment is when i turned around and started \" + ing) \n",
    "print (\"like was a such a \" + animal) \n",
    "print (\"but you would have done the exact same thing like \" + celebrity) \n",
    "print (\"did at my best friend newphew pet dog party last year\")\n",
    "print (\"when i was at \" + noun + \" city\") \n",
    "print (\"where we all started and \" + verb1)\n",
    "print (\"on a \" + day + \" night\")\n",
    "print (\"with my homegirl \" + womans_name)\n",
    "print (\"which i known since i was in my adolescence when was singing never gonna give you up by rick astley in the living room togther\")\n",
    "print (\"because her partner \" + mans_name +  \" was insecure about her leaving him\")\n",
    "print (\"in the city of \" + city + \" where they used to hate facial hair but then it grew on them\")"
   ]
  }
 ],
 "metadata": {
  "kernelspec": {
   "display_name": "Python 3.10.7 64-bit (microsoft store)",
   "language": "python",
   "name": "python3"
  },
  "language_info": {
   "codemirror_mode": {
    "name": "ipython",
    "version": 3
   },
   "file_extension": ".py",
   "mimetype": "text/x-python",
   "name": "python",
   "nbconvert_exporter": "python",
   "pygments_lexer": "ipython3",
   "version": "3.10.7"
  },
  "orig_nbformat": 4,
  "vscode": {
   "interpreter": {
    "hash": "4deb986f3ce6d39d52ae36d5b72d27b1f73a8b6b686c07859b235a0545bfc1d1"
   }
  }
 },
 "nbformat": 4,
 "nbformat_minor": 2
}
